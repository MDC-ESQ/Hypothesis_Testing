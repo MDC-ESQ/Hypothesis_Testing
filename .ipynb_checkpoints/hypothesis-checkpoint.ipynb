{
 "cells": [
  {
   "cell_type": "markdown",
   "metadata": {},
   "source": [
    "# Before you start:\n",
    "- Read the README.md file\n",
    "- Comment as much as you can and use the resources (README.md file)\n",
    "- Happy learning!"
   ]
  },
  {
   "cell_type": "code",
   "execution_count": 2,
   "metadata": {},
   "outputs": [],
   "source": [
    "# import numpy and pandas\n",
    "import scipy.stats as st\n",
    "import numpy as np\n",
    "import pandas as pd\n"
   ]
  },
  {
   "cell_type": "markdown",
   "metadata": {},
   "source": [
    "# Challenge 1 - Exploring the Data\n",
    "\n",
    "In this challenge, we will examine all salaries of employees of the City of Chicago. We will start by loading the dataset and examining its contents. "
   ]
  },
  {
   "cell_type": "code",
   "execution_count": 5,
   "metadata": {},
   "outputs": [],
   "source": [
    "\n",
    "data = pd.read_csv('Current_Employee_Names__Salaries__and_Position_Titles.csv')\n"
   ]
  },
  {
   "cell_type": "markdown",
   "metadata": {},
   "source": [
    "Examine the `salaries` dataset using the `head` function below."
   ]
  },
  {
   "cell_type": "code",
   "execution_count": 6,
   "metadata": {},
   "outputs": [
    {
     "data": {
      "text/html": [
       "<div>\n",
       "<style scoped>\n",
       "    .dataframe tbody tr th:only-of-type {\n",
       "        vertical-align: middle;\n",
       "    }\n",
       "\n",
       "    .dataframe tbody tr th {\n",
       "        vertical-align: top;\n",
       "    }\n",
       "\n",
       "    .dataframe thead th {\n",
       "        text-align: right;\n",
       "    }\n",
       "</style>\n",
       "<table border=\"1\" class=\"dataframe\">\n",
       "  <thead>\n",
       "    <tr style=\"text-align: right;\">\n",
       "      <th></th>\n",
       "      <th>Name</th>\n",
       "      <th>Job Titles</th>\n",
       "      <th>Department</th>\n",
       "      <th>Full or Part-Time</th>\n",
       "      <th>Salary or Hourly</th>\n",
       "      <th>Typical Hours</th>\n",
       "      <th>Annual Salary</th>\n",
       "      <th>Hourly Rate</th>\n",
       "    </tr>\n",
       "  </thead>\n",
       "  <tbody>\n",
       "    <tr>\n",
       "      <th>0</th>\n",
       "      <td>ADRIANO,  RACQUEL ANNE</td>\n",
       "      <td>PARAMEDIC</td>\n",
       "      <td>FIRE</td>\n",
       "      <td>F</td>\n",
       "      <td>Salary</td>\n",
       "      <td>NaN</td>\n",
       "      <td>72510.0</td>\n",
       "      <td>NaN</td>\n",
       "    </tr>\n",
       "    <tr>\n",
       "      <th>1</th>\n",
       "      <td>AFFANEH,  MAHIR A</td>\n",
       "      <td>POLICE OFFICER</td>\n",
       "      <td>POLICE</td>\n",
       "      <td>F</td>\n",
       "      <td>Salary</td>\n",
       "      <td>NaN</td>\n",
       "      <td>93354.0</td>\n",
       "      <td>NaN</td>\n",
       "    </tr>\n",
       "    <tr>\n",
       "      <th>2</th>\n",
       "      <td>AFOENYI,  PHYLLIS</td>\n",
       "      <td>TITLE V PROGRAM TRAINEE I</td>\n",
       "      <td>FAMILY &amp; SUPPORT</td>\n",
       "      <td>P</td>\n",
       "      <td>Hourly</td>\n",
       "      <td>20.0</td>\n",
       "      <td>NaN</td>\n",
       "      <td>13.0</td>\n",
       "    </tr>\n",
       "    <tr>\n",
       "      <th>3</th>\n",
       "      <td>AGAR,  BULENT B</td>\n",
       "      <td>DEPUTY COMMISSIONER</td>\n",
       "      <td>WATER MGMNT</td>\n",
       "      <td>F</td>\n",
       "      <td>Salary</td>\n",
       "      <td>NaN</td>\n",
       "      <td>132972.0</td>\n",
       "      <td>NaN</td>\n",
       "    </tr>\n",
       "    <tr>\n",
       "      <th>4</th>\n",
       "      <td>AGEE,  LAWRENCE</td>\n",
       "      <td>POLICE OFFICER</td>\n",
       "      <td>POLICE</td>\n",
       "      <td>F</td>\n",
       "      <td>Salary</td>\n",
       "      <td>NaN</td>\n",
       "      <td>90024.0</td>\n",
       "      <td>NaN</td>\n",
       "    </tr>\n",
       "  </tbody>\n",
       "</table>\n",
       "</div>"
      ],
      "text/plain": [
       "                     Name                 Job Titles        Department  \\\n",
       "0  ADRIANO,  RACQUEL ANNE                  PARAMEDIC              FIRE   \n",
       "1       AFFANEH,  MAHIR A             POLICE OFFICER            POLICE   \n",
       "2       AFOENYI,  PHYLLIS  TITLE V PROGRAM TRAINEE I  FAMILY & SUPPORT   \n",
       "3         AGAR,  BULENT B        DEPUTY COMMISSIONER       WATER MGMNT   \n",
       "4         AGEE,  LAWRENCE             POLICE OFFICER            POLICE   \n",
       "\n",
       "  Full or Part-Time Salary or Hourly  Typical Hours  Annual Salary  \\\n",
       "0                 F           Salary            NaN        72510.0   \n",
       "1                 F           Salary            NaN        93354.0   \n",
       "2                 P           Hourly           20.0            NaN   \n",
       "3                 F           Salary            NaN       132972.0   \n",
       "4                 F           Salary            NaN        90024.0   \n",
       "\n",
       "   Hourly Rate  \n",
       "0          NaN  \n",
       "1          NaN  \n",
       "2         13.0  \n",
       "3          NaN  \n",
       "4          NaN  "
      ]
     },
     "execution_count": 6,
     "metadata": {},
     "output_type": "execute_result"
    }
   ],
   "source": [
    "\n",
    "data.head()"
   ]
  },
  {
   "cell_type": "markdown",
   "metadata": {},
   "source": [
    "We see from looking at the `head` function that there is quite a bit of missing data. Let's examine how much missing data is in each column. Produce this output in the cell below"
   ]
  },
  {
   "cell_type": "code",
   "execution_count": 7,
   "metadata": {},
   "outputs": [
    {
     "data": {
      "text/plain": [
       "Name                     0\n",
       "Job Titles               0\n",
       "Department               0\n",
       "Full or Part-Time        0\n",
       "Salary or Hourly         0\n",
       "Typical Hours        25528\n",
       "Annual Salary         8174\n",
       "Hourly Rate          25528\n",
       "dtype: int64"
      ]
     },
     "execution_count": 7,
     "metadata": {},
     "output_type": "execute_result"
    }
   ],
   "source": [
    "# Your code here:\n",
    "data.isna().sum()\n"
   ]
  },
  {
   "cell_type": "code",
   "execution_count": 8,
   "metadata": {},
   "outputs": [
    {
     "data": {
      "text/plain": [
       "Name                  object\n",
       "Job Titles            object\n",
       "Department            object\n",
       "Full or Part-Time     object\n",
       "Salary or Hourly      object\n",
       "Typical Hours        float64\n",
       "Annual Salary        float64\n",
       "Hourly Rate          float64\n",
       "dtype: object"
      ]
     },
     "execution_count": 8,
     "metadata": {},
     "output_type": "execute_result"
    }
   ],
   "source": [
    "data.dtypes"
   ]
  },
  {
   "cell_type": "markdown",
   "metadata": {},
   "source": [
    "Let's also look at the count of hourly vs. salaried employees. Write the code in the cell below"
   ]
  },
  {
   "cell_type": "code",
   "execution_count": 9,
   "metadata": {},
   "outputs": [
    {
     "data": {
      "text/plain": [
       "Salary    25528\n",
       "Hourly     8174\n",
       "Name: Salary or Hourly, dtype: int64"
      ]
     },
     "execution_count": 9,
     "metadata": {},
     "output_type": "execute_result"
    }
   ],
   "source": [
    "# Your code here:\n",
    "data['Salary or Hourly'].value_counts()\n"
   ]
  },
  {
   "cell_type": "markdown",
   "metadata": {},
   "source": [
    "What this information indicates is that the table contains information about two types of employees - salaried and hourly. Some columns apply only to one type of employee while other columns only apply to another kind. This is why there are so many missing values. Therefore, we will not do anything to handle the missing values."
   ]
  },
  {
   "cell_type": "markdown",
   "metadata": {},
   "source": [
    "There are different departments in the city. List all departments and the count of employees in each department."
   ]
  },
  {
   "cell_type": "code",
   "execution_count": 17,
   "metadata": {},
   "outputs": [
    {
     "data": {
      "text/html": [
       "<div>\n",
       "<style scoped>\n",
       "    .dataframe tbody tr th:only-of-type {\n",
       "        vertical-align: middle;\n",
       "    }\n",
       "\n",
       "    .dataframe tbody tr th {\n",
       "        vertical-align: top;\n",
       "    }\n",
       "\n",
       "    .dataframe thead th {\n",
       "        text-align: right;\n",
       "    }\n",
       "</style>\n",
       "<table border=\"1\" class=\"dataframe\">\n",
       "  <thead>\n",
       "    <tr style=\"text-align: right;\">\n",
       "      <th></th>\n",
       "      <th>count_employees</th>\n",
       "    </tr>\n",
       "    <tr>\n",
       "      <th>Department</th>\n",
       "      <th></th>\n",
       "    </tr>\n",
       "  </thead>\n",
       "  <tbody>\n",
       "    <tr>\n",
       "      <th>POLICE</th>\n",
       "      <td>13784</td>\n",
       "    </tr>\n",
       "    <tr>\n",
       "      <th>FIRE</th>\n",
       "      <td>4615</td>\n",
       "    </tr>\n",
       "    <tr>\n",
       "      <th>STREETS &amp; SAN</th>\n",
       "      <td>2170</td>\n",
       "    </tr>\n",
       "    <tr>\n",
       "      <th>WATER MGMNT</th>\n",
       "      <td>1912</td>\n",
       "    </tr>\n",
       "    <tr>\n",
       "      <th>AVIATION</th>\n",
       "      <td>1855</td>\n",
       "    </tr>\n",
       "    <tr>\n",
       "      <th>OEMC</th>\n",
       "      <td>1737</td>\n",
       "    </tr>\n",
       "    <tr>\n",
       "      <th>TRANSPORTN</th>\n",
       "      <td>1111</td>\n",
       "    </tr>\n",
       "    <tr>\n",
       "      <th>PUBLIC LIBRARY</th>\n",
       "      <td>1088</td>\n",
       "    </tr>\n",
       "    <tr>\n",
       "      <th>DAIS</th>\n",
       "      <td>1032</td>\n",
       "    </tr>\n",
       "    <tr>\n",
       "      <th>FAMILY &amp; SUPPORT</th>\n",
       "      <td>655</td>\n",
       "    </tr>\n",
       "    <tr>\n",
       "      <th>FINANCE</th>\n",
       "      <td>544</td>\n",
       "    </tr>\n",
       "    <tr>\n",
       "      <th>HEALTH</th>\n",
       "      <td>467</td>\n",
       "    </tr>\n",
       "    <tr>\n",
       "      <th>LAW</th>\n",
       "      <td>398</td>\n",
       "    </tr>\n",
       "    <tr>\n",
       "      <th>CITY COUNCIL</th>\n",
       "      <td>362</td>\n",
       "    </tr>\n",
       "    <tr>\n",
       "      <th>BUILDINGS</th>\n",
       "      <td>258</td>\n",
       "    </tr>\n",
       "    <tr>\n",
       "      <th>PUBLIC SAFETY ADMIN</th>\n",
       "      <td>244</td>\n",
       "    </tr>\n",
       "    <tr>\n",
       "      <th>BUSINESS AFFAIRS</th>\n",
       "      <td>167</td>\n",
       "    </tr>\n",
       "    <tr>\n",
       "      <th>HOUSING &amp; ECON DEV</th>\n",
       "      <td>154</td>\n",
       "    </tr>\n",
       "    <tr>\n",
       "      <th>COPA</th>\n",
       "      <td>123</td>\n",
       "    </tr>\n",
       "    <tr>\n",
       "      <th>BOARD OF ELECTION</th>\n",
       "      <td>111</td>\n",
       "    </tr>\n",
       "    <tr>\n",
       "      <th>MAYOR'S OFFICE</th>\n",
       "      <td>104</td>\n",
       "    </tr>\n",
       "    <tr>\n",
       "      <th>INSPECTOR GEN</th>\n",
       "      <td>95</td>\n",
       "    </tr>\n",
       "    <tr>\n",
       "      <th>CITY CLERK</th>\n",
       "      <td>88</td>\n",
       "    </tr>\n",
       "    <tr>\n",
       "      <th>PROCUREMENT</th>\n",
       "      <td>84</td>\n",
       "    </tr>\n",
       "    <tr>\n",
       "      <th>ANIMAL CONTRL</th>\n",
       "      <td>75</td>\n",
       "    </tr>\n",
       "    <tr>\n",
       "      <th>HUMAN RESOURCES</th>\n",
       "      <td>75</td>\n",
       "    </tr>\n",
       "    <tr>\n",
       "      <th>CULTURAL AFFAIRS</th>\n",
       "      <td>74</td>\n",
       "    </tr>\n",
       "    <tr>\n",
       "      <th>HOUSING</th>\n",
       "      <td>66</td>\n",
       "    </tr>\n",
       "    <tr>\n",
       "      <th>BUDGET &amp; MGMT</th>\n",
       "      <td>44</td>\n",
       "    </tr>\n",
       "    <tr>\n",
       "      <th>ADMIN HEARNG</th>\n",
       "      <td>38</td>\n",
       "    </tr>\n",
       "    <tr>\n",
       "      <th>DISABILITIES</th>\n",
       "      <td>28</td>\n",
       "    </tr>\n",
       "    <tr>\n",
       "      <th>TREASURER</th>\n",
       "      <td>28</td>\n",
       "    </tr>\n",
       "    <tr>\n",
       "      <th>HUMAN RELATIONS</th>\n",
       "      <td>17</td>\n",
       "    </tr>\n",
       "    <tr>\n",
       "      <th>BOARD OF ETHICS</th>\n",
       "      <td>8</td>\n",
       "    </tr>\n",
       "    <tr>\n",
       "      <th>POLICE BOARD</th>\n",
       "      <td>2</td>\n",
       "    </tr>\n",
       "    <tr>\n",
       "      <th>LICENSE APPL COMM</th>\n",
       "      <td>1</td>\n",
       "    </tr>\n",
       "  </tbody>\n",
       "</table>\n",
       "</div>"
      ],
      "text/plain": [
       "                     count_employees\n",
       "Department                          \n",
       "POLICE                         13784\n",
       "FIRE                            4615\n",
       "STREETS & SAN                   2170\n",
       "WATER MGMNT                     1912\n",
       "AVIATION                        1855\n",
       "OEMC                            1737\n",
       "TRANSPORTN                      1111\n",
       "PUBLIC LIBRARY                  1088\n",
       "DAIS                            1032\n",
       "FAMILY & SUPPORT                 655\n",
       "FINANCE                          544\n",
       "HEALTH                           467\n",
       "LAW                              398\n",
       "CITY COUNCIL                     362\n",
       "BUILDINGS                        258\n",
       "PUBLIC SAFETY ADMIN              244\n",
       "BUSINESS AFFAIRS                 167\n",
       "HOUSING & ECON DEV               154\n",
       "COPA                             123\n",
       "BOARD OF ELECTION                111\n",
       "MAYOR'S OFFICE                   104\n",
       "INSPECTOR GEN                     95\n",
       "CITY CLERK                        88\n",
       "PROCUREMENT                       84\n",
       "ANIMAL CONTRL                     75\n",
       "HUMAN RESOURCES                   75\n",
       "CULTURAL AFFAIRS                  74\n",
       "HOUSING                           66\n",
       "BUDGET & MGMT                     44\n",
       "ADMIN HEARNG                      38\n",
       "DISABILITIES                      28\n",
       "TREASURER                         28\n",
       "HUMAN RELATIONS                   17\n",
       "BOARD OF ETHICS                    8\n",
       "POLICE BOARD                       2\n",
       "LICENSE APPL COMM                  1"
      ]
     },
     "execution_count": 17,
     "metadata": {},
     "output_type": "execute_result"
    }
   ],
   "source": [
    "# Your code here:\n",
    "\n",
    "department = data.groupby(['Department']).agg({'Name':pd.Series.nunique}).rename(columns={'Name':'count_employees'})\n",
    "department = department.sort_values(by='count_employees', ascending=False)\n",
    "department\n"
   ]
  },
  {
   "cell_type": "markdown",
   "metadata": {},
   "source": [
    "# Challenge 2 - Hypothesis Tests\n",
    "\n",
    "In this section of the lab, we will test whether the hourly wage of all hourly workers is significantly different from $30/hr. Import the correct one sample test function from scipy and perform the hypothesis test for a 95% two sided confidence interval."
   ]
  },
  {
   "cell_type": "code",
   "execution_count": 70,
   "metadata": {},
   "outputs": [
    {
     "name": "stdout",
     "output_type": "stream",
     "text": [
      "stat is   31.211500329216044\n",
      "pvalue for the two-tailed test is  3.825475847673794e-202\n"
     ]
    }
   ],
   "source": [
    "\n",
    "# Ho = hourly wage of all hourly workers = $30/hr\n",
    "# H1 = hourly wage of all hourly workers <> $30/hr\n",
    "# alpha = 0.05 (p-value threshold)\n",
    "\n",
    "from scipy.stats import ttest_1samp\n",
    "\n",
    "data_hourly = data['Hourly Rate'].dropna()\n",
    "\n",
    "\n",
    "stat, pval = ttest_1samp(data_hourly, 30)\n",
    "\n",
    "print('stat is  ', stat)\n",
    "print('pvalue for the two-tailed test is ', pval)\n"
   ]
  },
  {
   "cell_type": "code",
   "execution_count": 31,
   "metadata": {},
   "outputs": [
    {
     "data": {
      "text/plain": [
       "34.58644971862046"
      ]
     },
     "execution_count": 31,
     "metadata": {},
     "output_type": "execute_result"
    }
   ],
   "source": [
    "np.mean(data_hourly)"
   ]
  },
  {
   "cell_type": "markdown",
   "metadata": {},
   "source": [
    " - Since p-value is less than 0.05, we can reject the null hypotheses.\n",
    " - Average hourly rate is 34.58, different from 30 euros/hour "
   ]
  },
  {
   "cell_type": "markdown",
   "metadata": {},
   "source": [
    "We are also curious about salaries in the police force. The chief of police in Chicago claimed in a press briefing that salaries this year are higher than last year's mean of $86000/year a year for all salaried employees. Test this one sided hypothesis using a 95% confidence interval.\n",
    "\n",
    "Hint: A one tailed test has a p-value that is half of the two tailed p-value. If our hypothesis is greater than, then to reject, the test statistic must also be positive."
   ]
  },
  {
   "cell_type": "code",
   "execution_count": 41,
   "metadata": {},
   "outputs": [
    {
     "name": "stdout",
     "output_type": "stream",
     "text": [
      "stat is   18.51748561981861\n",
      "pvalue for the one-tailed test is  6.119566952121482e-76\n"
     ]
    }
   ],
   "source": [
    "# Ho = salaries in the police force <= $86000/year\n",
    "# H1 = salaries in the police force > $86000/year\n",
    "# alpha = 0.05 (p-value threshold)\n",
    "\n",
    "data_police_salary = data[data.Department == 'POLICE']\n",
    "data_police_salary = data_police_salary['Annual Salary'].dropna()\n",
    "\n",
    "stat, pval = ttest_1samp(data_police_salary, 86000)\n",
    "\n",
    "print('stat is  ', stat)\n",
    "print('pvalue for the one-tailed test is ', pval/2)\n",
    "\n"
   ]
  },
  {
   "cell_type": "code",
   "execution_count": 42,
   "metadata": {},
   "outputs": [
    {
     "data": {
      "text/plain": [
       "88834.11892361111"
      ]
     },
     "execution_count": 42,
     "metadata": {},
     "output_type": "execute_result"
    }
   ],
   "source": [
    "np.mean(data_police_salary)"
   ]
  },
  {
   "cell_type": "markdown",
   "metadata": {},
   "source": [
    " - Since p-value is less than 0.05, we can reject the null hypotheses.\n",
    " - Average annual salary in the police force is aprox. 88k euros, greater than 86k "
   ]
  },
  {
   "cell_type": "markdown",
   "metadata": {},
   "source": [
    "Using the `crosstab` function, find the department that has the most hourly workers. "
   ]
  },
  {
   "cell_type": "code",
   "execution_count": 58,
   "metadata": {},
   "outputs": [
    {
     "data": {
      "text/html": [
       "<div>\n",
       "<style scoped>\n",
       "    .dataframe tbody tr th:only-of-type {\n",
       "        vertical-align: middle;\n",
       "    }\n",
       "\n",
       "    .dataframe tbody tr th {\n",
       "        vertical-align: top;\n",
       "    }\n",
       "\n",
       "    .dataframe thead th {\n",
       "        text-align: right;\n",
       "    }\n",
       "</style>\n",
       "<table border=\"1\" class=\"dataframe\">\n",
       "  <thead>\n",
       "    <tr style=\"text-align: right;\">\n",
       "      <th>Salary or Hourly</th>\n",
       "      <th>Hourly</th>\n",
       "    </tr>\n",
       "    <tr>\n",
       "      <th>Department</th>\n",
       "      <th></th>\n",
       "    </tr>\n",
       "  </thead>\n",
       "  <tbody>\n",
       "    <tr>\n",
       "      <th>STREETS &amp; SAN</th>\n",
       "      <td>1846</td>\n",
       "    </tr>\n",
       "  </tbody>\n",
       "</table>\n",
       "</div>"
      ],
      "text/plain": [
       "Salary or Hourly  Hourly\n",
       "Department              \n",
       "STREETS & SAN       1846"
      ]
     },
     "execution_count": 58,
     "metadata": {},
     "output_type": "execute_result"
    }
   ],
   "source": [
    "\n",
    "data_crosstab = pd.crosstab(data['Department'], data['Salary or Hourly'], margins = False)\n",
    "\n",
    "data_crosstab = data_crosstab.pivot_table(index= ['Department'], values = ['Hourly'], aggfunc = {'Hourly':max})\n",
    "data_crosstab = data_crosstab.sort_values(by='Hourly', ascending=False)\n",
    "data_crosstab.head(1)"
   ]
  },
  {
   "cell_type": "markdown",
   "metadata": {},
   "source": [
    "- STREETS & SAN is the department with the highest number of hourly employees"
   ]
  },
  {
   "cell_type": "markdown",
   "metadata": {},
   "source": [
    "The workers from the department with the most hourly workers have complained that their hourly wage is less than $35/hour. Using a one sample t-test, test this one-sided hypothesis at the 95% confidence level."
   ]
  },
  {
   "cell_type": "code",
   "execution_count": 68,
   "metadata": {},
   "outputs": [
    {
     "name": "stdout",
     "output_type": "stream",
     "text": [
      "stat is   -2.8142736834194233\n",
      "pvalue for the one-tailed test is  0.002450222172329931\n"
     ]
    }
   ],
   "source": [
    "# Ho = hourly wage of STREETS & SAN hourly workers < $35/hr\n",
    "# H1 = hourly wage of all hourly workers >= $35/hr\n",
    "# alpha = 0.05 (p-value threshold)\n",
    "\n",
    "data_STREETS_SAN_rate = data[data.Department == 'STREETS & SAN']\n",
    "data_STREETS_SAN_rate = data['Hourly Rate'].dropna()\n",
    "data_STREETS_SAN_rate\n",
    "\n",
    "\n",
    "stat, pval = ttest_1samp(data_STREETS_SAN_rate, 35)\n",
    "\n",
    "print('stat is  ', stat)\n",
    "print('pvalue for the one-tailed test is ', pval/2)\n",
    "\n",
    "\n"
   ]
  },
  {
   "cell_type": "code",
   "execution_count": 69,
   "metadata": {},
   "outputs": [
    {
     "data": {
      "text/plain": [
       "34.58644971862046"
      ]
     },
     "execution_count": 69,
     "metadata": {},
     "output_type": "execute_result"
    }
   ],
   "source": [
    "np.mean(data_STREETS_SAN_rate)"
   ]
  },
  {
   "cell_type": "markdown",
   "metadata": {},
   "source": [
    "- Since p-value is less than 0.05, we can reject the null hypotheses.\n",
    "- Average hourly rate for STREETS & SAN is aprox. 34.59 euros - hours, less than 86k "
   ]
  },
  {
   "cell_type": "markdown",
   "metadata": {},
   "source": [
    "# Challenge 3: To practice - Constructing Confidence Intervals\n",
    "\n",
    "While testing our hypothesis is a great way to gather empirical evidence for accepting or rejecting the hypothesis, another way to gather evidence is by creating a confidence interval. A confidence interval gives us information about the true mean of the population. So for a 95% confidence interval, we are 95% sure that the mean of the population is within the confidence interval. \n",
    ").\n",
    "\n",
    "To read more about confidence intervals, click [here](https://en.wikipedia.org/wiki/Confidence_interval).\n",
    "\n",
    "\n",
    "In the cell below, we will construct a 95% confidence interval for the mean hourly wage of all hourly workers. \n",
    "\n",
    "The confidence interval is computed in SciPy using the `t.interval` function. You can read more about this function [here](https://docs.scipy.org/doc/scipy-0.14.0/reference/generated/scipy.stats.t.html).\n",
    "\n",
    "To compute the confidence interval of the hourly wage, use the 0.95 for the confidence level, number of rows - 1 for degrees of freedom, the mean of the sample for the location parameter and the standard error for the scale. The standard error can be computed using [this](https://docs.scipy.org/doc/scipy/reference/generated/scipy.stats.sem.html) function in SciPy."
   ]
  },
  {
   "cell_type": "code",
   "execution_count": 73,
   "metadata": {},
   "outputs": [
    {
     "name": "stdout",
     "output_type": "stream",
     "text": [
      "confidence interval is  (34.2983953972632, 34.874504039977715) .\n",
      "mean hourly wage of all hourly workers:  34.58644971862046\n"
     ]
    }
   ],
   "source": [
    "\n",
    "import scipy.stats\n",
    "\n",
    "confidence_level = 0.95\n",
    "\n",
    "data_salary = data['Hourly Rate'].dropna()\n",
    "degrees_freedom = len(data_hourly)\n",
    "\n",
    "sample_mean = np.mean(data_hourly)\n",
    "\n",
    "sample_standard_error = scipy.stats.sem(data_hourly)\n",
    "\n",
    "confidence_interval = scipy.stats.t.interval(confidence_level, \n",
    "                                             degrees_freedom, \n",
    "                                             sample_mean, \n",
    "                                             sample_standard_error)\n",
    "\n",
    "print( 'confidence interval is ', confidence_interval, '.' )\n",
    "print('mean hourly wage of all hourly workers: ',sample_mean)"
   ]
  },
  {
   "cell_type": "markdown",
   "metadata": {},
   "source": [
    "Now construct the 95% confidence interval for all salaried employeed in the police in the cell below."
   ]
  },
  {
   "cell_type": "code",
   "execution_count": 74,
   "metadata": {},
   "outputs": [
    {
     "name": "stdout",
     "output_type": "stream",
     "text": [
      "confidence interval is  (88534.11829048868, 89134.11955673354) .\n",
      "mean hourly wage of all hourly workers:  88834.11892361111\n"
     ]
    }
   ],
   "source": [
    "import scipy.stats\n",
    "\n",
    "confidence_level = 0.95\n",
    "\n",
    "\n",
    "degrees_freedom = len(data_police_salary)\n",
    "\n",
    "sample_mean = np.mean(data_police_salary)\n",
    "\n",
    "sample_standard_error = scipy.stats.sem(data_police_salary)\n",
    "\n",
    "confidence_interval = scipy.stats.t.interval(confidence_level, \n",
    "                                             degrees_freedom, \n",
    "                                             sample_mean, \n",
    "                                             sample_standard_error)\n",
    "\n",
    "print( 'confidence interval is ', confidence_interval, '.' )\n",
    "print('mean hourly wage of all hourly workers: ',sample_mean)"
   ]
  },
  {
   "cell_type": "markdown",
   "metadata": {},
   "source": [
    "# Bonus Challenge - Hypothesis Tests of Proportions\n",
    "\n",
    "Another type of one sample test is a hypothesis test of proportions. In this test, we examine whether the proportion of a group in our sample is significantly different than a fraction. \n",
    "\n",
    "You can read more about one sample proportion tests [here](http://sphweb.bumc.bu.edu/otlt/MPH-Modules/BS/SAS/SAS6-CategoricalData/SAS6-CategoricalData2.html).\n",
    "\n",
    "In the cell below, use the `proportions_ztest` function from `statsmodels` to perform a hypothesis test that will determine whether the number of hourly workers in the City of Chicago is significantly different from 25% at the 95% confidence level."
   ]
  },
  {
   "cell_type": "markdown",
   "metadata": {},
   "source": [
    "#### the number of hourly workers in the City of Chicago is significantly different from 25% at the 95% confidence level.\n",
    "\n",
    "Ho: p = p0 = number of hourly workers in the City of Chicago is equal to 25%\n",
    "\n",
    "\n",
    "Ho: p <> p0 = number of hourly workers in the City of Chicago is different from 25%\n"
   ]
  },
  {
   "cell_type": "markdown",
   "metadata": {},
   "source": [
    "#### statsmodels.stats.proportion.proportions_ztest(count, nobs, value=None, alternative='two-sided', prop_var=False)\n",
    "\n",
    "Parameters:\t\n",
    " \n",
    " - count (integer or array_like) – the number of successes in nobs trials. If this is array_like, then the assumption is that this represents the number of successes for each independent sample\n",
    "\n",
    "\n",
    " - nobs (integer or array-like) – the number of trials or observations, with the same length as count.\n",
    "\n",
    "\n",
    " - value (float, array_like or None, optional) – This is the value of the null hypothesis equal to the proportion in the case of a one sample test. In the case of a two-sample test, the null hypothesis is that prop[0] - prop[1] = value, where prop is the proportion in the two samples. If not provided value = 0 and the null is prop[0] = prop[1]\n",
    "\n",
    "\n",
    " - alternative (string in ['two-sided', 'smaller', 'larger']) – The alternative hypothesis can be either two-sided or one of the one- sided tests, smaller means that the alternative hypothesis is prop < value and larger means prop > value. In the two sample test, smaller means that the alternative hypothesis is p1 < p2 and larger means p1 > p2 where p1 is the proportion of the first sample and p2 of the second one.\n",
    "\n",
    "\n",
    " - prop_var (False or float in (0, 1)) – If prop_var is false, then the variance of the proportion estimate is calculated based on the sample proportion. Alternatively, a proportion can be specified to calculate this variance. Common use case is to use the proportion under the Null hypothesis to specify the variance of the proportion estimate."
   ]
  },
  {
   "cell_type": "code",
   "execution_count": 113,
   "metadata": {},
   "outputs": [
    {
     "name": "stdout",
     "output_type": "stream",
     "text": [
      "z-value:  3.163803602504186\n",
      "p_value:  0.0015572183979645873\n",
      "Reject the null hypothesis - suggest the alternative hypothesis is true\n"
     ]
    }
   ],
   "source": [
    "p = 0.25\n",
    "count = len(data)*p\n",
    "nobs = len(data)\n",
    "value = data['Salary or Hourly'].value_counts()[1] / len(data)\n",
    "\n",
    "\n",
    "stat, p_value = proportions_ztest(count, nobs, value)\n",
    "\n",
    "print('z-value: ', stat)\n",
    "print('p_value: ',p_value)\n",
    "\n",
    "\n",
    "if p_value > significance:\n",
    "   print (\"Fail to reject the null hypothesis - we have nothing else to say\")\n",
    "else:\n",
    "   print (\"Reject the null hypothesis - suggest the alternative hypothesis is true\")\n"
   ]
  },
  {
   "cell_type": "code",
   "execution_count": null,
   "metadata": {},
   "outputs": [],
   "source": [
    "#To cross check the result above: use z formula"
   ]
  },
  {
   "cell_type": "code",
   "execution_count": 108,
   "metadata": {},
   "outputs": [],
   "source": [
    "nominator = value-p"
   ]
  },
  {
   "cell_type": "code",
   "execution_count": 109,
   "metadata": {},
   "outputs": [],
   "source": [
    "import math \n",
    "\n",
    "denominator = math.sqrt(p*(1-p)/len(data))"
   ]
  },
  {
   "cell_type": "code",
   "execution_count": 111,
   "metadata": {},
   "outputs": [
    {
     "data": {
      "text/plain": [
       "-3.163803602504186"
      ]
     },
     "execution_count": 111,
     "metadata": {},
     "output_type": "execute_result"
    }
   ],
   "source": [
    "z = nominator/denominator\n",
    "z"
   ]
  },
  {
   "cell_type": "code",
   "execution_count": null,
   "metadata": {},
   "outputs": [],
   "source": []
  }
 ],
 "metadata": {
  "kernelspec": {
   "display_name": "Python 3 (ipykernel)",
   "language": "python",
   "name": "python3"
  },
  "language_info": {
   "codemirror_mode": {
    "name": "ipython",
    "version": 3
   },
   "file_extension": ".py",
   "mimetype": "text/x-python",
   "name": "python",
   "nbconvert_exporter": "python",
   "pygments_lexer": "ipython3",
   "version": "3.9.12"
  }
 },
 "nbformat": 4,
 "nbformat_minor": 2
}
